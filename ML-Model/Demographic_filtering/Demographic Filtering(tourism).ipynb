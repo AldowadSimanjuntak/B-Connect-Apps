{
 "cells": [
  {
   "cell_type": "code",
   "execution_count": 16,
   "id": "01f2820f-e1f5-4fd7-b4b0-49afb5977d6b",
   "metadata": {},
   "outputs": [
    {
     "name": "stdout",
     "output_type": "stream",
     "text": [
      "===based on City===\n",
      "                   Place_Name            Category     City  Rating\n",
      "28  Wisata Kuliner Pecenongan  Pusat Perbelanjaan  Jakarta     5.0\n",
      "68            Freedom Library              Budaya  Jakarta     5.0\n",
      "13              Pulau Pelangi              Bahari  Jakarta     4.8\n",
      "48      Galeri Indonesia Kaya              Budaya  Jakarta     4.8\n",
      "22            Gereja Katedral       Tempat Ibadah  Jakarta     4.8\n",
      "..                        ...                 ...      ...     ...\n",
      "49            Museum Joang 45              Budaya  Jakarta     4.0\n",
      "45           Pulau Semak Daun              Bahari  Jakarta     4.0\n",
      "24          Pasar Tanah Abang  Pusat Perbelanjaan  Jakarta     4.0\n",
      "7               Ocean Ecopark       Taman Hiburan  Jakarta     4.0\n",
      "11                 Pulau Pari              Bahari  Jakarta     4.0\n",
      "\n",
      "[84 rows x 4 columns]\n",
      "\n",
      "\n",
      "===based on Category===\n",
      "                       Place_Name Category        City  Rating\n",
      "68                Freedom Library   Budaya     Jakarta     5.0\n",
      "123  Kauman Pakualaman Yogyakarta   Budaya  Yogyakarta     5.0\n",
      "48          Galeri Indonesia Kaya   Budaya     Jakarta     4.8\n",
      "174          Museum Ullen Sentalu   Budaya  Yogyakarta     4.7\n",
      "374            Kota Lama Semarang   Budaya    Semarang     4.7\n",
      "..                            ...      ...         ...     ...\n",
      "175          Museum Gunung Merapi   Budaya  Yogyakarta     4.4\n",
      "88           De Mata Museum Jogja   Budaya  Yogyakarta     4.4\n",
      "41    Museum Seni Rupa dan Kramik   Budaya     Jakarta     4.4\n",
      "121                   Watu Goyang   Budaya  Yogyakarta     4.4\n",
      "254                  Museum Barli   Budaya     Bandung     4.4\n",
      "\n",
      "[100 rows x 4 columns]\n"
     ]
    }
   ],
   "source": [
    "import pandas as pd\n",
    "\n",
    "tourism_data_path = 'tourism_with_id.csv'\n",
    "tourism_data = pd.read_csv(tourism_data_path)\n",
    "\n",
    "class DemographicFiltering:\n",
    "    def __init__(self, data):\n",
    "        self.data = data\n",
    "\n",
    "    def filter_by_demographics(self, demographic_criteria):\n",
    "        filtered_data = self.data.copy()\n",
    "        for criterion, value in demographic_criteria.items():\n",
    "            filtered_data = filtered_data[filtered_data[criterion] == value]\n",
    "\n",
    "        return filtered_data\n",
    "\n",
    "    def get_top_place(self, demographic_criteria, top_n=100):\n",
    "        filtered_data = self.filter_by_demographics(demographic_criteria)\n",
    "        top_place = filtered_data.sort_values(by='Rating', ascending=False).head(top_n)\n",
    "\n",
    "        return top_place\n",
    "\n",
    "# Instantiate the DemographicFiltering class\n",
    "demographic_filter = DemographicFiltering(tourism_data)\n",
    "\n",
    "# based on City\n",
    "print('===based on City===')\n",
    "demographic_criteria = {'City': 'Jakarta'}\n",
    "top_place = demographic_filter.get_top_place(demographic_criteria)\n",
    "print(top_place[['Place_Name', 'Category', 'City' , 'Rating']])\n",
    "\n",
    "#based on Category\n",
    "print('\\n\\n===based on Category===')\n",
    "demographic_criteria = {'Category': 'Budaya'}\n",
    "top_place = demographic_filter.get_top_place(demographic_criteria)\n",
    "print(top_place[['Place_Name', 'Category', 'City' , 'Rating']])\n"
   ]
  },
  {
   "cell_type": "code",
   "execution_count": null,
   "id": "f267f783-f44f-43c1-900b-db2fc9f465de",
   "metadata": {},
   "outputs": [],
   "source": []
  },
  {
   "cell_type": "code",
   "execution_count": null,
   "id": "aa2de332-6832-49c3-a2d7-1cdd805108db",
   "metadata": {},
   "outputs": [],
   "source": []
  },
  {
   "cell_type": "code",
   "execution_count": null,
   "id": "cf7ec2c7-f4c4-4b3e-8a32-90f417188c57",
   "metadata": {},
   "outputs": [],
   "source": []
  }
 ],
 "metadata": {
  "kernelspec": {
   "display_name": "Python 3 (ipykernel)",
   "language": "python",
   "name": "python3"
  },
  "language_info": {
   "codemirror_mode": {
    "name": "ipython",
    "version": 3
   },
   "file_extension": ".py",
   "mimetype": "text/x-python",
   "name": "python",
   "nbconvert_exporter": "python",
   "pygments_lexer": "ipython3",
   "version": "3.11.4"
  }
 },
 "nbformat": 4,
 "nbformat_minor": 5
}
