{
  "nbformat": 4,
  "nbformat_minor": 0,
  "metadata": {
    "colab": {
      "provenance": []
    },
    "kernelspec": {
      "name": "python3",
      "display_name": "Python 3"
    },
    "language_info": {
      "name": "python"
    }
  },
  "cells": [
    {
      "cell_type": "markdown",
      "source": [
        "this line provide to import such important library for this notebook, such as math, numpy, and pandas, we don't use tenserflow or keras library nor sci ilearn, because they do not necessary for our recomendation system."
      ],
      "metadata": {
        "id": "CFJ1u3fU6Prk"
      }
    },
    {
      "cell_type": "code",
      "source": [
        "import math\n",
        "import numpy as np\n",
        "import pandas as pd"
      ],
      "metadata": {
        "id": "PWzzNVU4spgA"
      },
      "execution_count": 2,
      "outputs": []
    },
    {
      "cell_type": "markdown",
      "source": [
        "These lines read data from CSV files into Pandas DataFrames."
      ],
      "metadata": {
        "id": "I7D5V1kH6twQ"
      }
    },
    {
      "cell_type": "code",
      "source": [
        "data_tempat = pd.read_csv('tourism_with_id.csv')\n"
      ],
      "metadata": {
        "id": "Uprd6izUt32K"
      },
      "execution_count": 4,
      "outputs": []
    },
    {
      "cell_type": "markdown",
      "source": [
        "Defines a Haversine function to calculate distances and a function to recommend nearby places based on user coordinates."
      ],
      "metadata": {
        "id": "tor5WOo8uWwO"
      }
    },
    {
      "cell_type": "code",
      "source": [
        "def haversine(lat1, lon1, lat2, lon2):\n",
        "    # Mengonversi koordinat dari derajat ke radian\n",
        "    lat1, lon1, lat2, lon2 = map(math.radians, [lat1, lon1, lat2, lon2])\n",
        "\n",
        "    # Haversine Formula\n",
        "    dlat = lat2 - lat1\n",
        "    dlon = lon2 - lon1\n",
        "    a = np.sin(dlat / 2) ** 2 + np.cos(lat1) * np.cos(lat2) * np.sin(dlon / 2) ** 2\n",
        "    c = 2 * np.arctan2(np.sqrt(a), np.sqrt(1 - a))\n",
        "    # Jarak dalam kilometer\n",
        "    radius_bumi = 6371.0\n",
        "    distance = radius_bumi * c\n",
        "\n",
        "    return distance"
      ],
      "metadata": {
        "id": "6B4EHAoSuc_O"
      },
      "execution_count": 5,
      "outputs": []
    },
    {
      "cell_type": "code",
      "source": [
        "def recommend_nearby_places(user_coords, data, max_distance=5):\n",
        "    # Menghitung jarak antara tempat yang diinginkan dengan tempat di data\n",
        "    data['Distance'] = data.apply(lambda row: haversine(user_coords['lat'], user_coords['lng'], row['Lat'], row['Long']), axis=1)\n",
        "\n",
        "    # Filter tempat yang berjarak kurang dari atau sama dengan max_distance\n",
        "    nearby_places = data[data['Distance'] <= max_distance]\n",
        "\n",
        "    # Mengurutkan tempat berdasarkan jarak\n",
        "    nearby_places = nearby_places.sort_values(by='Distance')\n",
        "\n",
        "    return nearby_places[['Place_Id', 'Place_Name', 'Distance']]"
      ],
      "metadata": {
        "id": "8hkyJlgMuuxK"
      },
      "execution_count": 6,
      "outputs": []
    },
    {
      "cell_type": "markdown",
      "source": [
        "Provides an example of how to use the geospatial recommendation functions."
      ],
      "metadata": {
        "id": "XAvgKhtuup7q"
      }
    },
    {
      "cell_type": "code",
      "source": [
        "user_coordinates = {'lat': -6.173333, 'lng': 106.829605}\n",
        "\n",
        "recommendations = recommend_nearby_places(user_coordinates, data_tempat)"
      ],
      "metadata": {
        "id": "lPGABMoWu1kp"
      },
      "execution_count": 7,
      "outputs": []
    },
    {
      "cell_type": "code",
      "source": [
        "print(f\"Rekomendasi tempat terdekat untuk koordinat ({user_coordinates['lat']}, {user_coordinates['lng']}):\")\n",
        "print(recommendations)"
      ],
      "metadata": {
        "colab": {
          "base_uri": "https://localhost:8080/"
        },
        "id": "jENs3Mhj4x7w",
        "outputId": "df21d7da-2f9a-4789-80db-4becf4a0e7a0"
      },
      "execution_count": 8,
      "outputs": [
        {
          "output_type": "stream",
          "name": "stdout",
          "text": [
            "Rekomendasi tempat terdekat untuk koordinat (-6.173333, 106.829605):\n",
            "    Place_Id                        Place_Name  Distance\n",
            "0          1                  Monumen Nasional  0.354864\n",
            "21        22                   Masjid Istiqlal  0.403286\n",
            "22        23                   Gereja Katedral  0.595648\n",
            "56        57            Taman Lapangan Banteng  0.675379\n",
            "39        40         Galeri Nasional Indonesia  0.677373\n",
            "28        29         Wisata Kuliner Pecenongan  0.803363\n",
            "37        38  Istana Negara Republik Indonesia  0.854582\n",
            "69        70             Perpustakaan Nasional  0.935142\n",
            "23        24                   Museum Nasional  0.949495\n",
            "62        63       Museum Kebangkitan Nasional  1.091861\n",
            "19        20             Museum Taman Prasasti  1.182205\n",
            "83        84               Kawasan Kuliner BSM  1.362129\n",
            "14        15                        Pasar Seni  1.395225\n",
            "49        50                   Museum Joang 45  1.618289\n",
            "58        59              Museum Sumpah Pemuda  1.890525\n",
            "47        48              Taman Ismail Marzuki  2.088143\n",
            "50        51               Jakarta Planetarium  2.124560\n",
            "79        80                   Plaza Indonesia  2.431165\n",
            "43        44            Monumen Selamat Datang  2.515656\n",
            "29        30                     Taman Menteng  2.566107\n",
            "48        49             Galeri Indonesia Kaya  2.614887\n",
            "24        25                 Pasar Tanah Abang  2.618393\n",
            "34        35              Grand Indonesia Mall  2.632049\n",
            "80        81                 Mall Thamrin City  2.696323\n",
            "59        60                    Museum Tekstil  2.744712\n",
            "46        47                Taman Situ Lembang  2.787023\n",
            "32        33                    Taman Suropati  2.918029\n",
            "63        64    Museum Sasmita Loka Ahmad Yani  3.563363\n",
            "68        69                   Freedom Library  3.648089\n",
            "54        55              Klenteng Jin De Yuan  3.719034\n",
            "67        68              Pasar Petak Sembilan  3.777839\n",
            "60        61                   Tugu Proklamasi  3.804233\n",
            "25        26                    Pecinan Glodok  3.808425\n",
            "75        76                    Taman Cattleya  3.873195\n",
            "1          2                          Kota Tua  4.201373\n",
            "35        36      Skyrink - Mall Taman Anggrek  4.211084\n",
            "44        45       Jakarta Aquarium dan Safari  4.331877\n",
            "17        18             Museum Bank Indonesia  4.424477\n",
            "16        17                 Museum Fatahillah  4.490441\n",
            "41        42       Museum Seni Rupa dan Kramik  4.652553\n",
            "20        21                     Museum Wayang  4.674972\n"
          ]
        }
      ]
    }
  ]
}