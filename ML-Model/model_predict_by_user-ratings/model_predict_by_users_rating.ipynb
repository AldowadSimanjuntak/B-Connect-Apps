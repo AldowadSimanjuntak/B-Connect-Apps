{
  "nbformat": 4,
  "nbformat_minor": 0,
  "metadata": {
    "colab": {
      "provenance": [],
      "gpuType": "T4"
    },
    "kernelspec": {
      "name": "python3",
      "display_name": "Python 3"
    },
    "language_info": {
      "name": "python"
    },
    "accelerator": "GPU"
  },
  "cells": [
    {
      "cell_type": "markdown",
      "source": [
        "### 1. preparing the data\n",
        "\n",
        "first step is prepare the library that will be needed"
      ],
      "metadata": {
        "id": "-viwMG8pzI0E"
      }
    },
    {
      "cell_type": "code",
      "execution_count": 1,
      "metadata": {
        "colab": {
          "base_uri": "https://localhost:8080/"
        },
        "id": "ijFJMjdtzDMe",
        "outputId": "3ad37fc1-edce-4c13-e22a-481ea072ff0a"
      },
      "outputs": [
        {
          "output_type": "stream",
          "name": "stdout",
          "text": [
            "Collecting sastrawi\n",
            "  Downloading Sastrawi-1.0.1-py2.py3-none-any.whl (209 kB)\n",
            "\u001b[2K     \u001b[90m━━━━━━━━━━━━━━━━━━━━━━━━━━━━━━━━━━━━━━━━\u001b[0m \u001b[32m209.7/209.7 kB\u001b[0m \u001b[31m1.7 MB/s\u001b[0m eta \u001b[36m0:00:00\u001b[0m\n",
            "\u001b[?25hInstalling collected packages: sastrawi\n",
            "Successfully installed sastrawi-1.0.1\n"
          ]
        }
      ],
      "source": [
        "!pip install sastrawi\n"
      ]
    },
    {
      "cell_type": "code",
      "source": [
        "import pandas as pd\n",
        "import numpy as np\n",
        "import matplotlib.pyplot as plt\n",
        "import seaborn as sns\n",
        "import plotly.express as px\n",
        "\n",
        "from sklearn.feature_extraction.text import TfidfVectorizer\n",
        "from Sastrawi.Stemmer.StemmerFactory import StemmerFactory\n",
        "from Sastrawi.StopWordRemover.StopWordRemoverFactory import StopWordRemoverFactory\n",
        "from sklearn.metrics.pairwise import cosine_similarity\n",
        "\n",
        "from zipfile import ZipFile\n",
        "import tensorflow as tf\n",
        "from tensorflow import keras\n",
        "from keras import layers\n",
        "from pathlib import Path"
      ],
      "metadata": {
        "id": "BX6YDxPoz1mP"
      },
      "execution_count": 2,
      "outputs": []
    },
    {
      "cell_type": "markdown",
      "source": [
        "1. Preprocessing Data\n",
        "\n",
        "read the dataset as dataframe pandas, and initiated object TfidfVectorizer, Stemmer, dan StopWordRemover\n",
        "\n",
        "drop the unnecessary column, and calculate the average ranking based on the \"place_id\"\n",
        "\n",
        "grouping that result as column into tourism_with_id, based on the \"place_id\""
      ],
      "metadata": {
        "id": "cT2zG5Aqz-91"
      }
    },
    {
      "cell_type": "code",
      "source": [
        "# Inisialisasi objek TfidfVectorizer, Stemmer, dan StopWordRemover\n",
        "tv = TfidfVectorizer(max_features=5000)\n",
        "stem = StemmerFactory().create_stemmer()\n",
        "stopword = StopWordRemoverFactory().create_stop_word_remover()\n",
        "\n",
        "# Membaca data dari file CSV\n",
        "data_tourism_rating = pd.read_csv('tourism_rating.csv')\n",
        "data_tourism_with_id = pd.read_csv('tourism_with_id.csv')\n",
        "data_user = pd.read_csv('user.csv')\n",
        "\n",
        "# Menghapus kolom-kolom yang tidak diperlukan dari data_tourism_with_id\n",
        "data_tourism_with_id.drop(['Rating','Time_Minutes','Coordinate','Lat','Long','Unnamed: 11','Unnamed: 12'],axis=1,inplace=True)\n",
        "\n",
        "# Menghitung rata-rata peringkat berdasarkan 'Place_Id'\n",
        "average_ratings = data_tourism_rating.groupby('Place_Id')['Place_Ratings'].mean().reset_index()\n",
        "\n",
        "# Menggabungkan hasil perhitungan rata-rata dengan data_tourism_with_id berdasarkan 'Place_Id'\n",
        "data_rekomendasi = pd.merge(average_ratings, data_tourism_with_id, on='Place_Id')\n"
      ],
      "metadata": {
        "id": "fcAYPC35z9R7"
      },
      "execution_count": 4,
      "outputs": []
    },
    {
      "cell_type": "markdown",
      "source": [
        "do the preprocessing function for cleaning the data using those library we import before. copy the csv into new dataframe and named it \"data_content_based_filtering\"\n",
        "\n",
        "1.Using TF-IDF Vectorizer to convert text into vector representations.\n",
        "\n",
        "2.Calculating the similarity between places using cosine similarity."
      ],
      "metadata": {
        "id": "OkyFiYYr7Afr"
      }
    },
    {
      "cell_type": "code",
      "source": [
        "# Fungsi preprocessing untuk membersihkan dan memproses teks\n",
        "def preprocessing(data):\n",
        "    data = data.lower()\n",
        "    data = stem.stem(data)\n",
        "    data = stopword.remove(data)\n",
        "    return data\n",
        "\n",
        "# Copy data_rekomendasi ke data_content_based_filtering dan lakukan preprocessing\n",
        "data_content_based_filtering = data_rekomendasi.copy()\n",
        "data_content_based_filtering['Tags'] = data_content_based_filtering['Description'] + ' ' + data_content_based_filtering['Category']\n",
        "data_content_based_filtering.drop(['Price','Place_Ratings','Description','Category','City'],axis=1,inplace=True)\n",
        "data_content_based_filtering.Tags = data_content_based_filtering.Tags.apply(preprocessing)\n",
        "\n",
        "# Ekstraksi fitur menggunakan TfidfVectorizer dan menghitung kemiripan cosine\n",
        "vectors = tv.fit_transform(data_content_based_filtering.Tags).toarray()\n",
        "similarity = cosine_similarity(vectors)\n"
      ],
      "metadata": {
        "id": "zemTqjdI7In9"
      },
      "execution_count": 5,
      "outputs": []
    },
    {
      "cell_type": "markdown",
      "source": [
        "##1. Content based filtering part\n",
        "\n",
        "Creating \"recommend_by_content_based_filtering\" function to provide place recommendations based on content similarity (content-based filtering).\n",
        "\n",
        "1.proceed text (description and category) using Stemming and Stopword Removal.\n",
        "\n",
        "2.Combining description and category to create a new column 'Tags'.\n",
        "\n",
        "\n"
      ],
      "metadata": {
        "id": "-z9JFQpU8j7Z"
      }
    },
    {
      "cell_type": "code",
      "source": [
        "\n",
        "# Fungsi rekomendasi berdasarkan Content-Based Filtering\n",
        "def recommend_by_content_based_filtering(nama_tempat):\n",
        "    nama_tempat_index = data_content_based_filtering[data_content_based_filtering['Place_Name']==nama_tempat].index[0]\n",
        "    distancess = similarity[nama_tempat_index]\n",
        "    nama_tempat_list = sorted(list(enumerate(distancess)),key=lambda x: x[1],reverse=True)[1:10]\n",
        "\n",
        "    recommended_nama_tempats = []\n",
        "    for i in nama_tempat_list:\n",
        "        recommended_nama_tempats.append([data_content_based_filtering.iloc[i[0]].Place_Name]+[i[1]])\n",
        "        # print(nama_tempats.iloc[i[0]].original_title)\n",
        "\n",
        "    return recommended_nama_tempats\n"
      ],
      "metadata": {
        "id": "atmErZj7AOBU"
      },
      "execution_count": 6,
      "outputs": []
    },
    {
      "cell_type": "markdown",
      "source": [
        "##2. colaborative filtering\n",
        "\n",
        "this step we proceed new data  \n",
        "\n",
        "1. we merge the rating dataset (tourism_rating) into data_collaborative_filtering.\n",
        "\n",
        "2. Encoding userID and placeID.\n",
        "3. Mapping userID and placeID into the dataframe.\n",
        "4. Determining the number of users and destinations (places).\n",
        "5. Normalizing ratings using Min-Max Scaler.\n",
        "6. Splitting the data into train and validation sets."
      ],
      "metadata": {
        "id": "BsRPVsWlBX6E"
      }
    },
    {
      "cell_type": "code",
      "source": [
        "\n",
        "# Copy data_tourism_rating ke data_collaborative_filtering\n",
        "data_collaborative_filtering = data_tourism_rating.copy()\n",
        "\n",
        "# Mengubah userID menjadi list tanpa nilai yang sama\n",
        "user_ids = data_collaborative_filtering['User_Id'].unique().tolist()\n",
        "print('list userID: ', user_ids)\n",
        "\n",
        "# Melakukan encoding userID\n",
        "user_to_user_encoded = {x: i for i, x in enumerate(user_ids)}\n",
        "print('encoded userID : ', user_to_user_encoded)\n",
        "\n",
        "# Melakukan proses encoding angka ke userID\n",
        "user_encoded_to_user = {i: x for i, x in enumerate(user_ids)}\n",
        "print('encoded angka ke userID: ', user_encoded_to_user)\n",
        "\n",
        "# Mengubah placeID menjadi list tanpa nilai yang sama\n",
        "destination_ids = data_collaborative_filtering['Place_Id'].unique().tolist()\n",
        "\n",
        "# Melakukan proses encoding placeID\n",
        "destination_to_destination_encoded = {x: i for i, x in enumerate(destination_ids)}\n",
        "\n",
        "# Melakukan proses encoding angka ke placeID\n",
        "destination_encoded_to_destination = {i: x for i, x in enumerate(destination_ids)}\n",
        "\n",
        "# Mapping userID ke dataframe user dan placeID ke dataframe destination\n",
        "data_collaborative_filtering['user'] = data_collaborative_filtering['User_Id'].map(user_to_user_encoded)\n",
        "data_collaborative_filtering['destination'] = data_collaborative_filtering['Place_Id'].map(destination_to_destination_encoded)\n",
        "\n",
        "# Mendapatkan jumlah user dan destination\n",
        "num_users = len(user_to_user_encoded)\n",
        "print(num_users)\n",
        "num_destinations = len(destination_encoded_to_destination)\n",
        "print(num_destinations)\n",
        "\n",
        "# Mengubah rating menjadi nilai float\n",
        "data_collaborative_filtering['Place_Ratings'] = data_collaborative_filtering['Place_Ratings'].values.astype(np.float32)\n"
      ],
      "metadata": {
        "colab": {
          "base_uri": "https://localhost:8080/"
        },
        "id": "dYXyjBAiBYzh",
        "outputId": "ffe733a8-5cda-4389-d513-b33754187af7"
      },
      "execution_count": 7,
      "outputs": [
        {
          "output_type": "stream",
          "name": "stdout",
          "text": [
            "list userID:  [1, 2, 3, 4, 5, 6, 7, 8, 9, 10, 11, 12, 13, 14, 15, 16, 17, 18, 19, 20, 21, 22, 23, 24, 25, 26, 27, 28, 29, 30, 31, 32, 33, 34, 35, 36, 37, 38, 39, 40, 41, 42, 43, 44, 45, 46, 47, 48, 49, 50, 51, 52, 53, 54, 55, 56, 57, 58, 59, 60, 61, 62, 63, 64, 65, 66, 67, 68, 69, 70, 71, 72, 73, 74, 75, 76, 77, 78, 79, 80, 81, 82, 83, 84, 85, 86, 87, 88, 89, 90, 91, 92, 93, 94, 95, 96, 97, 98, 99, 100, 101, 102, 103, 104, 105, 106, 107, 108, 109, 110, 111, 112, 113, 114, 115, 116, 117, 118, 119, 120, 121, 122, 123, 124, 125, 126, 127, 128, 129, 130, 131, 132, 133, 134, 135, 136, 137, 138, 139, 140, 141, 142, 143, 144, 145, 146, 147, 148, 149, 150, 151, 152, 153, 154, 155, 156, 157, 158, 159, 160, 161, 162, 163, 164, 165, 166, 167, 168, 169, 170, 171, 172, 173, 174, 175, 176, 177, 178, 179, 180, 181, 182, 183, 184, 185, 186, 187, 188, 189, 190, 191, 192, 193, 194, 195, 196, 197, 198, 199, 200, 201, 202, 203, 204, 205, 206, 207, 208, 209, 210, 211, 212, 213, 214, 215, 216, 217, 218, 219, 220, 221, 222, 223, 224, 225, 226, 227, 228, 229, 230, 231, 232, 233, 234, 235, 236, 237, 238, 239, 240, 241, 242, 243, 244, 245, 246, 247, 248, 249, 250, 251, 252, 253, 254, 255, 256, 257, 258, 259, 260, 261, 262, 263, 264, 265, 266, 267, 268, 269, 270, 271, 272, 273, 274, 275, 276, 277, 278, 279, 280, 281, 282, 283, 284, 285, 286, 287, 288, 289, 290, 291, 292, 293, 294, 295, 296, 297, 298, 299, 300]\n",
            "encoded userID :  {1: 0, 2: 1, 3: 2, 4: 3, 5: 4, 6: 5, 7: 6, 8: 7, 9: 8, 10: 9, 11: 10, 12: 11, 13: 12, 14: 13, 15: 14, 16: 15, 17: 16, 18: 17, 19: 18, 20: 19, 21: 20, 22: 21, 23: 22, 24: 23, 25: 24, 26: 25, 27: 26, 28: 27, 29: 28, 30: 29, 31: 30, 32: 31, 33: 32, 34: 33, 35: 34, 36: 35, 37: 36, 38: 37, 39: 38, 40: 39, 41: 40, 42: 41, 43: 42, 44: 43, 45: 44, 46: 45, 47: 46, 48: 47, 49: 48, 50: 49, 51: 50, 52: 51, 53: 52, 54: 53, 55: 54, 56: 55, 57: 56, 58: 57, 59: 58, 60: 59, 61: 60, 62: 61, 63: 62, 64: 63, 65: 64, 66: 65, 67: 66, 68: 67, 69: 68, 70: 69, 71: 70, 72: 71, 73: 72, 74: 73, 75: 74, 76: 75, 77: 76, 78: 77, 79: 78, 80: 79, 81: 80, 82: 81, 83: 82, 84: 83, 85: 84, 86: 85, 87: 86, 88: 87, 89: 88, 90: 89, 91: 90, 92: 91, 93: 92, 94: 93, 95: 94, 96: 95, 97: 96, 98: 97, 99: 98, 100: 99, 101: 100, 102: 101, 103: 102, 104: 103, 105: 104, 106: 105, 107: 106, 108: 107, 109: 108, 110: 109, 111: 110, 112: 111, 113: 112, 114: 113, 115: 114, 116: 115, 117: 116, 118: 117, 119: 118, 120: 119, 121: 120, 122: 121, 123: 122, 124: 123, 125: 124, 126: 125, 127: 126, 128: 127, 129: 128, 130: 129, 131: 130, 132: 131, 133: 132, 134: 133, 135: 134, 136: 135, 137: 136, 138: 137, 139: 138, 140: 139, 141: 140, 142: 141, 143: 142, 144: 143, 145: 144, 146: 145, 147: 146, 148: 147, 149: 148, 150: 149, 151: 150, 152: 151, 153: 152, 154: 153, 155: 154, 156: 155, 157: 156, 158: 157, 159: 158, 160: 159, 161: 160, 162: 161, 163: 162, 164: 163, 165: 164, 166: 165, 167: 166, 168: 167, 169: 168, 170: 169, 171: 170, 172: 171, 173: 172, 174: 173, 175: 174, 176: 175, 177: 176, 178: 177, 179: 178, 180: 179, 181: 180, 182: 181, 183: 182, 184: 183, 185: 184, 186: 185, 187: 186, 188: 187, 189: 188, 190: 189, 191: 190, 192: 191, 193: 192, 194: 193, 195: 194, 196: 195, 197: 196, 198: 197, 199: 198, 200: 199, 201: 200, 202: 201, 203: 202, 204: 203, 205: 204, 206: 205, 207: 206, 208: 207, 209: 208, 210: 209, 211: 210, 212: 211, 213: 212, 214: 213, 215: 214, 216: 215, 217: 216, 218: 217, 219: 218, 220: 219, 221: 220, 222: 221, 223: 222, 224: 223, 225: 224, 226: 225, 227: 226, 228: 227, 229: 228, 230: 229, 231: 230, 232: 231, 233: 232, 234: 233, 235: 234, 236: 235, 237: 236, 238: 237, 239: 238, 240: 239, 241: 240, 242: 241, 243: 242, 244: 243, 245: 244, 246: 245, 247: 246, 248: 247, 249: 248, 250: 249, 251: 250, 252: 251, 253: 252, 254: 253, 255: 254, 256: 255, 257: 256, 258: 257, 259: 258, 260: 259, 261: 260, 262: 261, 263: 262, 264: 263, 265: 264, 266: 265, 267: 266, 268: 267, 269: 268, 270: 269, 271: 270, 272: 271, 273: 272, 274: 273, 275: 274, 276: 275, 277: 276, 278: 277, 279: 278, 280: 279, 281: 280, 282: 281, 283: 282, 284: 283, 285: 284, 286: 285, 287: 286, 288: 287, 289: 288, 290: 289, 291: 290, 292: 291, 293: 292, 294: 293, 295: 294, 296: 295, 297: 296, 298: 297, 299: 298, 300: 299}\n",
            "encoded angka ke userID:  {0: 1, 1: 2, 2: 3, 3: 4, 4: 5, 5: 6, 6: 7, 7: 8, 8: 9, 9: 10, 10: 11, 11: 12, 12: 13, 13: 14, 14: 15, 15: 16, 16: 17, 17: 18, 18: 19, 19: 20, 20: 21, 21: 22, 22: 23, 23: 24, 24: 25, 25: 26, 26: 27, 27: 28, 28: 29, 29: 30, 30: 31, 31: 32, 32: 33, 33: 34, 34: 35, 35: 36, 36: 37, 37: 38, 38: 39, 39: 40, 40: 41, 41: 42, 42: 43, 43: 44, 44: 45, 45: 46, 46: 47, 47: 48, 48: 49, 49: 50, 50: 51, 51: 52, 52: 53, 53: 54, 54: 55, 55: 56, 56: 57, 57: 58, 58: 59, 59: 60, 60: 61, 61: 62, 62: 63, 63: 64, 64: 65, 65: 66, 66: 67, 67: 68, 68: 69, 69: 70, 70: 71, 71: 72, 72: 73, 73: 74, 74: 75, 75: 76, 76: 77, 77: 78, 78: 79, 79: 80, 80: 81, 81: 82, 82: 83, 83: 84, 84: 85, 85: 86, 86: 87, 87: 88, 88: 89, 89: 90, 90: 91, 91: 92, 92: 93, 93: 94, 94: 95, 95: 96, 96: 97, 97: 98, 98: 99, 99: 100, 100: 101, 101: 102, 102: 103, 103: 104, 104: 105, 105: 106, 106: 107, 107: 108, 108: 109, 109: 110, 110: 111, 111: 112, 112: 113, 113: 114, 114: 115, 115: 116, 116: 117, 117: 118, 118: 119, 119: 120, 120: 121, 121: 122, 122: 123, 123: 124, 124: 125, 125: 126, 126: 127, 127: 128, 128: 129, 129: 130, 130: 131, 131: 132, 132: 133, 133: 134, 134: 135, 135: 136, 136: 137, 137: 138, 138: 139, 139: 140, 140: 141, 141: 142, 142: 143, 143: 144, 144: 145, 145: 146, 146: 147, 147: 148, 148: 149, 149: 150, 150: 151, 151: 152, 152: 153, 153: 154, 154: 155, 155: 156, 156: 157, 157: 158, 158: 159, 159: 160, 160: 161, 161: 162, 162: 163, 163: 164, 164: 165, 165: 166, 166: 167, 167: 168, 168: 169, 169: 170, 170: 171, 171: 172, 172: 173, 173: 174, 174: 175, 175: 176, 176: 177, 177: 178, 178: 179, 179: 180, 180: 181, 181: 182, 182: 183, 183: 184, 184: 185, 185: 186, 186: 187, 187: 188, 188: 189, 189: 190, 190: 191, 191: 192, 192: 193, 193: 194, 194: 195, 195: 196, 196: 197, 197: 198, 198: 199, 199: 200, 200: 201, 201: 202, 202: 203, 203: 204, 204: 205, 205: 206, 206: 207, 207: 208, 208: 209, 209: 210, 210: 211, 211: 212, 212: 213, 213: 214, 214: 215, 215: 216, 216: 217, 217: 218, 218: 219, 219: 220, 220: 221, 221: 222, 222: 223, 223: 224, 224: 225, 225: 226, 226: 227, 227: 228, 228: 229, 229: 230, 230: 231, 231: 232, 232: 233, 233: 234, 234: 235, 235: 236, 236: 237, 237: 238, 238: 239, 239: 240, 240: 241, 241: 242, 242: 243, 243: 244, 244: 245, 245: 246, 246: 247, 247: 248, 248: 249, 249: 250, 250: 251, 251: 252, 252: 253, 253: 254, 254: 255, 255: 256, 256: 257, 257: 258, 258: 259, 259: 260, 260: 261, 261: 262, 262: 263, 263: 264, 264: 265, 265: 266, 266: 267, 267: 268, 268: 269, 269: 270, 270: 271, 271: 272, 272: 273, 273: 274, 274: 275, 275: 276, 276: 277, 277: 278, 278: 279, 279: 280, 280: 281, 281: 282, 282: 283, 283: 284, 284: 285, 285: 286, 286: 287, 287: 288, 288: 289, 289: 290, 290: 291, 291: 292, 292: 293, 293: 294, 294: 295, 295: 296, 296: 297, 297: 298, 298: 299, 299: 300}\n",
            "300\n",
            "437\n"
          ]
        }
      ]
    },
    {
      "cell_type": "markdown",
      "source": [
        "this step is for making the minimum and maximum rating from user,\n",
        "\n",
        "we took the data from data_collaborative_filtering from before,\n",
        "and last is we divide the data into 8:2\n",
        "\n",
        "*(train data and validation data)*"
      ],
      "metadata": {
        "id": "DNs_Re8fDkF-"
      }
    },
    {
      "cell_type": "code",
      "source": [
        "# Nilai minimum dan maksimum rating\n",
        "min_rating = min(data_collaborative_filtering['Place_Ratings'])\n",
        "max_rating = max(data_collaborative_filtering['Place_Ratings'])\n",
        "\n",
        "# Scaling nilai rating ke rentang [0, 1]\n",
        "from sklearn.preprocessing import MinMaxScaler\n",
        "x = data_collaborative_filtering[['user', 'destination']].values\n",
        "ratings = data_collaborative_filtering['Place_Ratings'].values\n",
        "scaler = MinMaxScaler()\n",
        "y = scaler.fit_transform(ratings.reshape(-1, 1)).flatten()\n",
        "\n",
        "# Membagi data menjadi 80% data train dan 20% data validasi\n",
        "train_indices = int(0.8 * data_collaborative_filtering.shape[0])\n",
        "x_train, x_val, y_train, y_val = (\n",
        "    x[:train_indices],\n",
        "    x[train_indices:],\n",
        "    y[:train_indices],\n",
        "    y[train_indices:]\n",
        ")\n"
      ],
      "metadata": {
        "id": "8HGkyrS3DlJn"
      },
      "execution_count": 8,
      "outputs": []
    },
    {
      "cell_type": "markdown",
      "source": [
        "next step is we build the model, \"RecommenderNet\"\n",
        "\n",
        "to present the user and destinations, we use embedding layers for it\n",
        "\n",
        "we initiate the model before compile it, using num_user and num_destination from before"
      ],
      "metadata": {
        "id": "8Sy1zPchAbga"
      }
    },
    {
      "cell_type": "code",
      "source": [
        "\n",
        "# Definisi model Collaborative Filtering menggunakan Neural Network\n",
        "class RecommenderNet(tf.keras.Model):\n",
        "    def __init__(self, num_users, num_destinations, embedding_size, **kwargs):\n",
        "        super(RecommenderNet, self).__init__(**kwargs)\n",
        "        self.num_users = num_users\n",
        "        self.num_destinations = num_destinations\n",
        "        self.embedding_size = embedding_size\n",
        "        self.user_embedding = layers.Embedding(\n",
        "            num_users,\n",
        "            embedding_size,\n",
        "            embeddings_initializer='he_normal',\n",
        "            embeddings_regularizer=keras.regularizers.l2(1e-6)\n",
        "        )\n",
        "        self.user_embedding_dropout = layers.Dropout(0.2)\n",
        "        self.user_bias = layers.Embedding(num_users, 1)\n",
        "        self.destination_embedding = layers.Embedding(\n",
        "            num_destinations,\n",
        "            embedding_size,\n",
        "            embeddings_initializer='he_normal',\n",
        "            embeddings_regularizer=keras.regularizers.l2(1e-6)\n",
        "        )\n",
        "        self.destination_bias = layers.Embedding(num_destinations, 1)\n",
        "\n",
        "\n",
        "    def call(self, inputs):\n",
        "        user_vector = self.user_embedding_dropout(self.user_embedding(inputs[:, 0]))\n",
        "        user_vector = self.user_embedding(inputs[:, 0])\n",
        "        user_bias = self.user_bias(inputs[:, 0])\n",
        "        destination_vector = self.destination_embedding(inputs[:, 1])\n",
        "        destination_bias = self.destination_bias(inputs[:, 1])\n",
        "\n",
        "        dot_user_destination = tf.tensordot(user_vector, destination_vector, 2)\n",
        "        x = dot_user_destination + user_bias + destination_bias\n",
        "\n",
        "        return tf.nn.sigmoid(x)\n",
        "\n",
        "# Inisialisasi model Collaborative Filtering\n",
        "model = RecommenderNet(num_users, num_destinations, 50)\n",
        "\n",
        "# Kompilasi model dengan Binary Crossentropy loss dan Adam optimizer\n",
        "model.compile(\n",
        "    loss=tf.keras.losses.BinaryCrossentropy(),\n",
        "    optimizer=keras.optimizers.Adam(learning_rate=0.001),\n",
        "    metrics=[tf.keras.metrics.RootMeanSquaredError()]\n",
        ")\n",
        "callbacks = [keras.callbacks.EarlyStopping(monitor='val_loss', patience=3)]\n",
        "# Pelatihan model\n",
        "history = model.fit(\n",
        "    x=x_train,\n",
        "    y=y_train,\n",
        "    batch_size=8,\n",
        "    epochs=30,\n",
        "    validation_data=(x_val, y_val),\n",
        "    callbacks=callbacks\n",
        ")\n"
      ],
      "metadata": {
        "colab": {
          "base_uri": "https://localhost:8080/"
        },
        "id": "w8wgsaS9DZOB",
        "outputId": "71d373b3-5a53-48ce-b9bc-681635038de3"
      },
      "execution_count": 9,
      "outputs": [
        {
          "output_type": "stream",
          "name": "stdout",
          "text": [
            "Epoch 1/30\n",
            "1000/1000 [==============================] - 7s 4ms/step - loss: 0.6947 - root_mean_squared_error: 0.3438 - val_loss: 0.6929 - val_root_mean_squared_error: 0.3554\n",
            "Epoch 2/30\n",
            "1000/1000 [==============================] - 4s 4ms/step - loss: 0.6869 - root_mean_squared_error: 0.3380 - val_loss: 0.6930 - val_root_mean_squared_error: 0.3555\n",
            "Epoch 3/30\n",
            "1000/1000 [==============================] - 3s 3ms/step - loss: 0.6811 - root_mean_squared_error: 0.3338 - val_loss: 0.6933 - val_root_mean_squared_error: 0.3556\n",
            "Epoch 4/30\n",
            "1000/1000 [==============================] - 4s 4ms/step - loss: 0.6767 - root_mean_squared_error: 0.3305 - val_loss: 0.6936 - val_root_mean_squared_error: 0.3558\n"
          ]
        }
      ]
    },
    {
      "cell_type": "markdown",
      "source": [
        "here we preproceed the data from data_tourism_with_id, data_tourism_rating\n",
        "for sampling 'user_id', we randomly selecting from the rating data,\n",
        "last step is\n",
        "Rating Prediction using Collaborative Filtering Model\n",
        "\n",
        "this line essentially simulates the process of recommending destinations for a randomly sampled user based on the collaborative filtering model's predictions. The recommendations are provided for destinations that the user has not visited, considering the user's historical preferences."
      ],
      "metadata": {
        "id": "IBgwc1d8Ekk0"
      }
    },
    {
      "cell_type": "code",
      "source": [
        "\n",
        "# Persiapan data untuk rekomendasi menggunakan Collaborative Filtering\n",
        "destination_df = data_tourism_with_id\n",
        "df = data_tourism_rating\n",
        "\n",
        "# Mengambil sample user\n",
        "user_id = df.User_Id.sample(1).iloc[0]\n",
        "destination_visited_by_user = df[df.User_Id == user_id]\n",
        "\n",
        "destination_not_visited = destination_df[~destination_df['Place_Id'].isin(destination_visited_by_user.Place_Id.values)]['Place_Id']\n",
        "destination_not_visited = list(\n",
        "    set(destination_not_visited)\n",
        "    .intersection(set(destination_to_destination_encoded.keys()))\n",
        ")\n",
        "\n",
        "destination_not_visited = [[destination_to_destination_encoded.get(x)] for x in destination_not_visited]\n",
        "user_encoder = user_to_user_encoded.get(user_id)\n",
        "user_destination_array = np.hstack(\n",
        "    ([[user_encoder]] * len(destination_not_visited), destination_not_visited)\n",
        ")\n",
        "\n",
        "# Prediksi rating menggunakan model Collaborative Filtering\n",
        "ratings = model.predict(user_destination_array).flatten()\n",
        "top_ratings_indices = ratings.argsort()[-10:][::-1]\n",
        "recommended_destination_ids = [\n",
        "    destination_encoded_to_destination.get(destination_not_visited[x][0]) for x in top_ratings_indices\n",
        "]\n"
      ],
      "metadata": {
        "colab": {
          "base_uri": "https://localhost:8080/"
        },
        "id": "Bgoa_QTwGfZ3",
        "outputId": "d6778880-b5fe-4db0-8db3-79ac1c7bcbf8"
      },
      "execution_count": 10,
      "outputs": [
        {
          "output_type": "stream",
          "name": "stdout",
          "text": [
            "13/13 [==============================] - 0s 2ms/step\n"
          ]
        }
      ]
    },
    {
      "cell_type": "markdown",
      "source": [
        "This code is designed to display recommendations for a specific user based on the collaborative filtering model.  selects the top 5 destinations that have received the highest ratings from the user based on the Place_Ratings column. This loop iterates through the selected destinations (destination_df_rows) and prints their names.\n",
        "\n",
        "In summary, this code provides a clear output of destination recommendations for a specific user. It displays destinations with high ratings from the user and the top 10 recommendations from the collaborative filtering model.\n",
        "\n",
        "\n",
        "\n",
        "\n",
        "\n",
        "\n"
      ],
      "metadata": {
        "id": "ar3Ko1dMflE2"
      }
    },
    {
      "cell_type": "code",
      "source": [
        "# Menampilkan rekomendasi untuk pengguna tertentu\n",
        "print('Showing recommendations for users: {}'.format(user_id))\n",
        "\n",
        "# Menampilkan pemisah untuk kejelasan tampilan\n",
        "print('===' * 9)\n",
        "\n",
        "# Menampilkan destinasi dengan peringkat tinggi dari pengguna\n",
        "print('Destination with high ratings from user')\n",
        "print('----' * 8)\n",
        "\n",
        "# Mengambil top 5 destinasi yang mendapatkan peringkat tertinggi dari pengguna\n",
        "top_destination_user = (\n",
        "    destination_visited_by_user.sort_values(\n",
        "        by='Place_Ratings',\n",
        "        ascending=False\n",
        "    )\n",
        "    .head(5)\n",
        "    .Place_Id.values\n",
        ")\n",
        "\n",
        "# Menampilkan nama destinasi dengan peringkat tinggi\n",
        "destination_df_rows = destination_df[destination_df['Place_Id'].isin(top_destination_user)]\n",
        "for row in destination_df_rows.itertuples():\n",
        "    print(row.Place_Name)\n",
        "\n",
        "# Menampilkan pemisah untuk kejelasan tampilan\n",
        "print('----' * 8)\n",
        "\n",
        "# Menampilkan top 10 rekomendasi destinasi\n",
        "print('Top 10 destination recommendations')\n",
        "print('----' * 8)\n",
        "\n",
        "# Mengambil destinasi yang direkomendasikan\n",
        "recommended_destination = destination_df[destination_df['Place_Id'].isin(recommended_destination_ids)]\n",
        "for row in recommended_destination.itertuples():\n",
        "    print(row.Place_Name)"
      ],
      "metadata": {
        "colab": {
          "base_uri": "https://localhost:8080/"
        },
        "id": "LzYsK5iaf-Uf",
        "outputId": "24d58686-0d94-4ac9-fec8-171b819e53a3"
      },
      "execution_count": 11,
      "outputs": [
        {
          "output_type": "stream",
          "name": "stdout",
          "text": [
            "Showing recommendations for users: 236\n",
            "===========================\n",
            "Destination with high ratings from user\n",
            "--------------------------------\n",
            "Museum Fatahillah\n",
            "Taman Agrowisata Cilangkap\n",
            "Geoforest Watu Payung Turunan\n",
            "Dusun Bambu\n",
            "Bumi Perkemahan Batu Kuda\n",
            "--------------------------------\n",
            "Top 10 destination recommendations\n",
            "--------------------------------\n",
            "Pantai Baron\n",
            "Tafso Barn\n",
            "Glamping Lakeside Rancabali\n",
            "Bukit Jamur\n",
            "Kota Mini\n",
            "Taman Keputran\n",
            "Taman Ekspresi Dan Perpustakaan\n",
            "Masjid Nasional Al-Akbar\n",
            "Keraton Surabaya\n",
            "Taman Hiburan Rakyat\n"
          ]
        }
      ]
    },
    {
      "cell_type": "markdown",
      "source": [
        "this line is example of use content based filtering we build before, seek for the nearest places from the input"
      ],
      "metadata": {
        "id": "JiZ9AKYogDV1"
      }
    },
    {
      "cell_type": "code",
      "source": [
        "recommend_by_content_based_filtering('Kidzania')"
      ],
      "metadata": {
        "colab": {
          "base_uri": "https://localhost:8080/"
        },
        "id": "Qdv6LaHbgNso",
        "outputId": "f0c688a1-e377-41ea-a403-4b25fffc3dcc"
      },
      "execution_count": 12,
      "outputs": [
        {
          "output_type": "execute_result",
          "data": {
            "text/plain": [
              "[['Water Park Bandung Indah', 0.14466239131457276],\n",
              " ['Waduk Jatibarang', 0.12778025688845085],\n",
              " ['Dunia Fantasi', 0.11367806849784222],\n",
              " ['Taman Barunawati', 0.11203497424603112],\n",
              " ['Panghegar Waterboom Bandung', 0.10342293209555639],\n",
              " ['Taman Pelangi', 0.0992145844765313],\n",
              " ['Peta Park', 0.08832579793528267],\n",
              " ['Taman Pintar Yogyakarta', 0.08710597733039227],\n",
              " ['Taman Lansia', 0.08692961554338768]]"
            ]
          },
          "metadata": {},
          "execution_count": 12
        }
      ]
    },
    {
      "cell_type": "markdown",
      "source": [
        "to visualize how well machine learning model is learning from the training data over epochs. It provides insights into the training process and helps you assess whether your model is converging and learning the patterns in the data.\n",
        "\n",
        "Training Loss (Train): The loss on the training data during each epoch. You want this to decrease over epochs, indicating that the model is learning from the training data.\n",
        "\n",
        "Validation Loss (Validation): The loss on a separate validation dataset during each epoch. This dataset is not used for training but is used to evaluate the model's generalization to unseen data. You want this to decrease as well, but if it starts increasing while the training loss is still decreasing, it might indicate overfitting.\n",
        "\n",
        "\n"
      ],
      "metadata": {
        "id": "O25MuXXjjLWO"
      }
    },
    {
      "cell_type": "code",
      "source": [
        "# Assuming 'history' is the object returned by model.fit\n",
        "\n",
        "# Plot training & validation loss values\n",
        "plt.plot(history.history['loss'])\n",
        "plt.plot(history.history['val_loss'])\n",
        "plt.title('Model Loss')\n",
        "plt.xlabel('Epoch')\n",
        "plt.ylabel('Loss')\n",
        "plt.legend(['Train', 'Validation'], loc='upper right')\n",
        "\n",
        "# Set the y-axis range from 0 to 1\n",
        "plt.ylim(0, 1)\n",
        "\n",
        "plt.show()"
      ],
      "metadata": {
        "colab": {
          "base_uri": "https://localhost:8080/",
          "height": 472
        },
        "id": "ELRN2XNijaOM",
        "outputId": "b60e648b-3555-4f44-8385-044579c06376"
      },
      "execution_count": 13,
      "outputs": [
        {
          "output_type": "display_data",
          "data": {
            "text/plain": [
              "<Figure size 640x480 with 1 Axes>"
            ],
            "image/png": "[encoded data removed]"
          },
          "metadata": {}
        }
      ]
    },
    {
      "cell_type": "markdown",
      "source": [
        "this line is for saving few file tha for another source in this project\n",
        "\n",
        "Save the trained neural network model to an HDF5 file (embedding_model.h5).\n",
        "Save the test data to a pickle file (test_data.pkl).\n",
        "\n",
        "convert model into tflite"
      ],
      "metadata": {
        "id": "syz7wgi-jqMn"
      }
    },
    {
      "cell_type": "code",
      "source": [
        "import pickle\n",
        "\n",
        "# Save the model to an H5 file\n",
        "model.save('collaborative_filtering_model', save_format='tf')\n",
        "model.save_weights('collaborative_filtering_weights.h5')\n",
        "# Save the necessary data to a pickle file\n",
        "data_to_pickle = {\n",
        "    'user_to_user_encoded': user_to_user_encoded,\n",
        "    'destination_to_destination_encoded': destination_to_destination_encoded,\n",
        "    'scaler': scaler\n",
        "}\n",
        "\n",
        "with open('collaborative_filtering_data.pkl', 'wb') as file:\n",
        "    pickle.dump(data_to_pickle, file)\n",
        "\n",
        "converter = tf.lite.TFLiteConverter.from_keras_model(model)\n",
        "tflite_model = converter.convert()\n",
        "tflite_model\n",
        "with open('model.tflite', 'wb') as model_:\n",
        "  model_.write(tflite_model)"
      ],
      "metadata": {
        "id": "SJaFXNesqTJC"
      },
      "execution_count": 16,
      "outputs": []
    }
  ]
}